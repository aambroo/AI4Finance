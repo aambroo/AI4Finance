{
 "cells": [
  {
   "cell_type": "code",
   "execution_count": 2,
   "metadata": {},
   "outputs": [],
   "source": [
    "from utils import get_data, get_risk_free\n",
    "import pandas as pd\n",
    "import os, sys, fileinput\n",
    "from datetime import datetime"
   ]
  },
  {
   "cell_type": "code",
   "execution_count": 3,
   "metadata": {},
   "outputs": [],
   "source": [
    "# GLOBALS\n",
    "TICKER = 'AAPL'\n",
    "SRC_RFR = 'http://mba.tuck.dartmouth.edu/pages/faculty/ken.french/ftp/F-F_Research_Data_Factors_CSV.zip'\n",
    "PATH_TO_DATA = ''"
   ]
  },
  {
   "cell_type": "code",
   "execution_count": 4,
   "metadata": {},
   "outputs": [],
   "source": [
    "# GET RISK FREE RETURNS\n",
    "filename = SRC_RFR.split('/')[-1]\n",
    "zip_dst = os.path.join(os.getcwd(),filename)\n",
    "save_path = get_risk_free(SRC_RFR, zip_dst)"
   ]
  },
  {
   "cell_type": "code",
   "execution_count": 10,
   "metadata": {},
   "outputs": [
    {
     "ename": "ValueError",
     "evalue": "unconverted data remains: 607",
     "output_type": "error",
     "traceback": [
      "\u001b[0;31m---------------------------------------------------------------------------\u001b[0m",
      "\u001b[0;31mTypeError\u001b[0m                                 Traceback (most recent call last)",
      "File \u001b[0;32m~/miniforge3/envs/finance/lib/python3.9/site-packages/pandas/core/tools/datetimes.py:510\u001b[0m, in \u001b[0;36m_to_datetime_with_format\u001b[0;34m(arg, orig_arg, name, tz, fmt, exact, errors, infer_datetime_format)\u001b[0m\n\u001b[1;32m    <a href='file:///Users/matteoambrosini/miniforge3/envs/finance/lib/python3.9/site-packages/pandas/core/tools/datetimes.py?line=508'>509</a>\u001b[0m \u001b[39mtry\u001b[39;00m:\n\u001b[0;32m--> <a href='file:///Users/matteoambrosini/miniforge3/envs/finance/lib/python3.9/site-packages/pandas/core/tools/datetimes.py?line=509'>510</a>\u001b[0m     values, tz \u001b[39m=\u001b[39m conversion\u001b[39m.\u001b[39;49mdatetime_to_datetime64(arg)\n\u001b[1;32m    <a href='file:///Users/matteoambrosini/miniforge3/envs/finance/lib/python3.9/site-packages/pandas/core/tools/datetimes.py?line=510'>511</a>\u001b[0m     dta \u001b[39m=\u001b[39m DatetimeArray(values, dtype\u001b[39m=\u001b[39mtz_to_dtype(tz))\n",
      "File \u001b[0;32m~/miniforge3/envs/finance/lib/python3.9/site-packages/pandas/_libs/tslibs/conversion.pyx:360\u001b[0m, in \u001b[0;36mpandas._libs.tslibs.conversion.datetime_to_datetime64\u001b[0;34m()\u001b[0m\n",
      "\u001b[0;31mTypeError\u001b[0m: Unrecognized value type: <class 'str'>",
      "\nDuring handling of the above exception, another exception occurred:\n",
      "\u001b[0;31mValueError\u001b[0m                                Traceback (most recent call last)",
      "\u001b[1;32m/Users/matteoambrosini/Documents/Code/AI4Finance/assignment1.ipynb Cell 4'\u001b[0m in \u001b[0;36m<cell line: 6>\u001b[0;34m()\u001b[0m\n\u001b[1;32m      <a href='vscode-notebook-cell:/Users/matteoambrosini/Documents/Code/AI4Finance/assignment1.ipynb#ch0000003?line=0'>1</a>\u001b[0m \u001b[39m# DATA CLEANING\u001b[39;00m\n\u001b[1;32m      <a href='vscode-notebook-cell:/Users/matteoambrosini/Documents/Code/AI4Finance/assignment1.ipynb#ch0000003?line=1'>2</a>\u001b[0m \u001b[39m# for line in fileinput.input('./data/F-F_Research_Data_Factors.CSV'):\u001b[39;00m\n\u001b[1;32m      <a href='vscode-notebook-cell:/Users/matteoambrosini/Documents/Code/AI4Finance/assignment1.ipynb#ch0000003?line=2'>3</a>\u001b[0m \u001b[39m#     sys.stdout.write('{b}01{e}'.format(b=line[0:6],e=line[6:]))\u001b[39;00m\n\u001b[1;32m      <a href='vscode-notebook-cell:/Users/matteoambrosini/Documents/Code/AI4Finance/assignment1.ipynb#ch0000003?line=4'>5</a>\u001b[0m rfr_df \u001b[39m=\u001b[39m pd\u001b[39m.\u001b[39mread_csv(\u001b[39m'\u001b[39m\u001b[39m./data/F-F_Research_Data_Factors.CSV\u001b[39m\u001b[39m'\u001b[39m, header\u001b[39m=\u001b[39m\u001b[39m0\u001b[39m, names\u001b[39m=\u001b[39m[\u001b[39m'\u001b[39m\u001b[39mDate\u001b[39m\u001b[39m'\u001b[39m,\u001b[39m'\u001b[39m\u001b[39mMkt-RF\u001b[39m\u001b[39m'\u001b[39m,\u001b[39m'\u001b[39m\u001b[39mSMB\u001b[39m\u001b[39m'\u001b[39m,\u001b[39m'\u001b[39m\u001b[39mHML\u001b[39m\u001b[39m'\u001b[39m,\u001b[39m'\u001b[39m\u001b[39mRF\u001b[39m\u001b[39m'\u001b[39m], parse_dates\u001b[39m=\u001b[39m[\u001b[39m'\u001b[39m\u001b[39mDate\u001b[39m\u001b[39m'\u001b[39m], skipfooter\u001b[39m=\u001b[39m\u001b[39m99\u001b[39m, skiprows\u001b[39m=\u001b[39m\u001b[39m3\u001b[39m, engine\u001b[39m=\u001b[39m\u001b[39m'\u001b[39m\u001b[39mpython\u001b[39m\u001b[39m'\u001b[39m)\n\u001b[0;32m----> <a href='vscode-notebook-cell:/Users/matteoambrosini/Documents/Code/AI4Finance/assignment1.ipynb#ch0000003?line=5'>6</a>\u001b[0m rfr_df[\u001b[39m'\u001b[39m\u001b[39mDate\u001b[39m\u001b[39m'\u001b[39m] \u001b[39m=\u001b[39m pd\u001b[39m.\u001b[39;49mto_datetime(rfr_df[\u001b[39m'\u001b[39;49m\u001b[39mDate\u001b[39;49m\u001b[39m'\u001b[39;49m], \u001b[39mformat\u001b[39;49m\u001b[39m=\u001b[39;49m\u001b[39m'\u001b[39;49m\u001b[39m%\u001b[39;49m\u001b[39my\u001b[39;49m\u001b[39m%\u001b[39;49m\u001b[39mm\u001b[39;49m\u001b[39m'\u001b[39;49m)\n\u001b[1;32m      <a href='vscode-notebook-cell:/Users/matteoambrosini/Documents/Code/AI4Finance/assignment1.ipynb#ch0000003?line=6'>7</a>\u001b[0m rfr_df[\u001b[39m'\u001b[39m\u001b[39mDate\u001b[39m\u001b[39m'\u001b[39m]\n",
      "File \u001b[0;32m~/miniforge3/envs/finance/lib/python3.9/site-packages/pandas/core/tools/datetimes.py:1051\u001b[0m, in \u001b[0;36mto_datetime\u001b[0;34m(arg, errors, dayfirst, yearfirst, utc, format, exact, unit, infer_datetime_format, origin, cache)\u001b[0m\n\u001b[1;32m   <a href='file:///Users/matteoambrosini/miniforge3/envs/finance/lib/python3.9/site-packages/pandas/core/tools/datetimes.py?line=1048'>1049</a>\u001b[0m         result \u001b[39m=\u001b[39m arg\u001b[39m.\u001b[39mmap(cache_array)\n\u001b[1;32m   <a href='file:///Users/matteoambrosini/miniforge3/envs/finance/lib/python3.9/site-packages/pandas/core/tools/datetimes.py?line=1049'>1050</a>\u001b[0m     \u001b[39melse\u001b[39;00m:\n\u001b[0;32m-> <a href='file:///Users/matteoambrosini/miniforge3/envs/finance/lib/python3.9/site-packages/pandas/core/tools/datetimes.py?line=1050'>1051</a>\u001b[0m         values \u001b[39m=\u001b[39m convert_listlike(arg\u001b[39m.\u001b[39;49m_values, \u001b[39mformat\u001b[39;49m)\n\u001b[1;32m   <a href='file:///Users/matteoambrosini/miniforge3/envs/finance/lib/python3.9/site-packages/pandas/core/tools/datetimes.py?line=1051'>1052</a>\u001b[0m         result \u001b[39m=\u001b[39m arg\u001b[39m.\u001b[39m_constructor(values, index\u001b[39m=\u001b[39marg\u001b[39m.\u001b[39mindex, name\u001b[39m=\u001b[39marg\u001b[39m.\u001b[39mname)\n\u001b[1;32m   <a href='file:///Users/matteoambrosini/miniforge3/envs/finance/lib/python3.9/site-packages/pandas/core/tools/datetimes.py?line=1052'>1053</a>\u001b[0m \u001b[39melif\u001b[39;00m \u001b[39misinstance\u001b[39m(arg, (ABCDataFrame, abc\u001b[39m.\u001b[39mMutableMapping)):\n",
      "File \u001b[0;32m~/miniforge3/envs/finance/lib/python3.9/site-packages/pandas/core/tools/datetimes.py:394\u001b[0m, in \u001b[0;36m_convert_listlike_datetimes\u001b[0;34m(arg, format, name, tz, unit, errors, infer_datetime_format, dayfirst, yearfirst, exact)\u001b[0m\n\u001b[1;32m    <a href='file:///Users/matteoambrosini/miniforge3/envs/finance/lib/python3.9/site-packages/pandas/core/tools/datetimes.py?line=390'>391</a>\u001b[0m         \u001b[39mformat\u001b[39m \u001b[39m=\u001b[39m \u001b[39mNone\u001b[39;00m\n\u001b[1;32m    <a href='file:///Users/matteoambrosini/miniforge3/envs/finance/lib/python3.9/site-packages/pandas/core/tools/datetimes.py?line=392'>393</a>\u001b[0m \u001b[39mif\u001b[39;00m \u001b[39mformat\u001b[39m \u001b[39mis\u001b[39;00m \u001b[39mnot\u001b[39;00m \u001b[39mNone\u001b[39;00m:\n\u001b[0;32m--> <a href='file:///Users/matteoambrosini/miniforge3/envs/finance/lib/python3.9/site-packages/pandas/core/tools/datetimes.py?line=393'>394</a>\u001b[0m     res \u001b[39m=\u001b[39m _to_datetime_with_format(\n\u001b[1;32m    <a href='file:///Users/matteoambrosini/miniforge3/envs/finance/lib/python3.9/site-packages/pandas/core/tools/datetimes.py?line=394'>395</a>\u001b[0m         arg, orig_arg, name, tz, \u001b[39mformat\u001b[39;49m, exact, errors, infer_datetime_format\n\u001b[1;32m    <a href='file:///Users/matteoambrosini/miniforge3/envs/finance/lib/python3.9/site-packages/pandas/core/tools/datetimes.py?line=395'>396</a>\u001b[0m     )\n\u001b[1;32m    <a href='file:///Users/matteoambrosini/miniforge3/envs/finance/lib/python3.9/site-packages/pandas/core/tools/datetimes.py?line=396'>397</a>\u001b[0m     \u001b[39mif\u001b[39;00m res \u001b[39mis\u001b[39;00m \u001b[39mnot\u001b[39;00m \u001b[39mNone\u001b[39;00m:\n\u001b[1;32m    <a href='file:///Users/matteoambrosini/miniforge3/envs/finance/lib/python3.9/site-packages/pandas/core/tools/datetimes.py?line=397'>398</a>\u001b[0m         \u001b[39mreturn\u001b[39;00m res\n",
      "File \u001b[0;32m~/miniforge3/envs/finance/lib/python3.9/site-packages/pandas/core/tools/datetimes.py:514\u001b[0m, in \u001b[0;36m_to_datetime_with_format\u001b[0;34m(arg, orig_arg, name, tz, fmt, exact, errors, infer_datetime_format)\u001b[0m\n\u001b[1;32m    <a href='file:///Users/matteoambrosini/miniforge3/envs/finance/lib/python3.9/site-packages/pandas/core/tools/datetimes.py?line=511'>512</a>\u001b[0m     \u001b[39mreturn\u001b[39;00m DatetimeIndex\u001b[39m.\u001b[39m_simple_new(dta, name\u001b[39m=\u001b[39mname)\n\u001b[1;32m    <a href='file:///Users/matteoambrosini/miniforge3/envs/finance/lib/python3.9/site-packages/pandas/core/tools/datetimes.py?line=512'>513</a>\u001b[0m \u001b[39mexcept\u001b[39;00m (\u001b[39mValueError\u001b[39;00m, \u001b[39mTypeError\u001b[39;00m):\n\u001b[0;32m--> <a href='file:///Users/matteoambrosini/miniforge3/envs/finance/lib/python3.9/site-packages/pandas/core/tools/datetimes.py?line=513'>514</a>\u001b[0m     \u001b[39mraise\u001b[39;00m err\n",
      "File \u001b[0;32m~/miniforge3/envs/finance/lib/python3.9/site-packages/pandas/core/tools/datetimes.py:501\u001b[0m, in \u001b[0;36m_to_datetime_with_format\u001b[0;34m(arg, orig_arg, name, tz, fmt, exact, errors, infer_datetime_format)\u001b[0m\n\u001b[1;32m    <a href='file:///Users/matteoambrosini/miniforge3/envs/finance/lib/python3.9/site-packages/pandas/core/tools/datetimes.py?line=497'>498</a>\u001b[0m             \u001b[39mreturn\u001b[39;00m _box_as_indexlike(result, utc\u001b[39m=\u001b[39mutc, name\u001b[39m=\u001b[39mname)\n\u001b[1;32m    <a href='file:///Users/matteoambrosini/miniforge3/envs/finance/lib/python3.9/site-packages/pandas/core/tools/datetimes.py?line=499'>500</a>\u001b[0m     \u001b[39m# fallback\u001b[39;00m\n\u001b[0;32m--> <a href='file:///Users/matteoambrosini/miniforge3/envs/finance/lib/python3.9/site-packages/pandas/core/tools/datetimes.py?line=500'>501</a>\u001b[0m     res \u001b[39m=\u001b[39m _array_strptime_with_fallback(\n\u001b[1;32m    <a href='file:///Users/matteoambrosini/miniforge3/envs/finance/lib/python3.9/site-packages/pandas/core/tools/datetimes.py?line=501'>502</a>\u001b[0m         arg, name, tz, fmt, exact, errors, infer_datetime_format\n\u001b[1;32m    <a href='file:///Users/matteoambrosini/miniforge3/envs/finance/lib/python3.9/site-packages/pandas/core/tools/datetimes.py?line=502'>503</a>\u001b[0m     )\n\u001b[1;32m    <a href='file:///Users/matteoambrosini/miniforge3/envs/finance/lib/python3.9/site-packages/pandas/core/tools/datetimes.py?line=503'>504</a>\u001b[0m     \u001b[39mreturn\u001b[39;00m res\n\u001b[1;32m    <a href='file:///Users/matteoambrosini/miniforge3/envs/finance/lib/python3.9/site-packages/pandas/core/tools/datetimes.py?line=505'>506</a>\u001b[0m \u001b[39mexcept\u001b[39;00m \u001b[39mValueError\u001b[39;00m \u001b[39mas\u001b[39;00m err:\n\u001b[1;32m    <a href='file:///Users/matteoambrosini/miniforge3/envs/finance/lib/python3.9/site-packages/pandas/core/tools/datetimes.py?line=506'>507</a>\u001b[0m     \u001b[39m# Fallback to try to convert datetime objects if timezone-aware\u001b[39;00m\n\u001b[1;32m    <a href='file:///Users/matteoambrosini/miniforge3/envs/finance/lib/python3.9/site-packages/pandas/core/tools/datetimes.py?line=507'>508</a>\u001b[0m     \u001b[39m#  datetime objects are found without passing `utc=True`\u001b[39;00m\n",
      "File \u001b[0;32m~/miniforge3/envs/finance/lib/python3.9/site-packages/pandas/core/tools/datetimes.py:437\u001b[0m, in \u001b[0;36m_array_strptime_with_fallback\u001b[0;34m(arg, name, tz, fmt, exact, errors, infer_datetime_format)\u001b[0m\n\u001b[1;32m    <a href='file:///Users/matteoambrosini/miniforge3/envs/finance/lib/python3.9/site-packages/pandas/core/tools/datetimes.py?line=433'>434</a>\u001b[0m utc \u001b[39m=\u001b[39m tz \u001b[39m==\u001b[39m \u001b[39m\"\u001b[39m\u001b[39mutc\u001b[39m\u001b[39m\"\u001b[39m\n\u001b[1;32m    <a href='file:///Users/matteoambrosini/miniforge3/envs/finance/lib/python3.9/site-packages/pandas/core/tools/datetimes.py?line=435'>436</a>\u001b[0m \u001b[39mtry\u001b[39;00m:\n\u001b[0;32m--> <a href='file:///Users/matteoambrosini/miniforge3/envs/finance/lib/python3.9/site-packages/pandas/core/tools/datetimes.py?line=436'>437</a>\u001b[0m     result, timezones \u001b[39m=\u001b[39m array_strptime(arg, fmt, exact\u001b[39m=\u001b[39;49mexact, errors\u001b[39m=\u001b[39;49merrors)\n\u001b[1;32m    <a href='file:///Users/matteoambrosini/miniforge3/envs/finance/lib/python3.9/site-packages/pandas/core/tools/datetimes.py?line=437'>438</a>\u001b[0m     \u001b[39mif\u001b[39;00m \u001b[39m\"\u001b[39m\u001b[39m%\u001b[39m\u001b[39mZ\u001b[39m\u001b[39m\"\u001b[39m \u001b[39min\u001b[39;00m fmt \u001b[39mor\u001b[39;00m \u001b[39m\"\u001b[39m\u001b[39m%\u001b[39m\u001b[39mz\u001b[39m\u001b[39m\"\u001b[39m \u001b[39min\u001b[39;00m fmt:\n\u001b[1;32m    <a href='file:///Users/matteoambrosini/miniforge3/envs/finance/lib/python3.9/site-packages/pandas/core/tools/datetimes.py?line=438'>439</a>\u001b[0m         \u001b[39mreturn\u001b[39;00m _return_parsed_timezone_results(result, timezones, tz, name)\n",
      "File \u001b[0;32m~/miniforge3/envs/finance/lib/python3.9/site-packages/pandas/_libs/tslibs/strptime.pyx:156\u001b[0m, in \u001b[0;36mpandas._libs.tslibs.strptime.array_strptime\u001b[0;34m()\u001b[0m\n",
      "\u001b[0;31mValueError\u001b[0m: unconverted data remains: 607"
     ]
    }
   ],
   "source": [
    "# DATA CLEANING\n",
    "# for line in fileinput.input('./data/F-F_Research_Data_Factors.CSV'):\n",
    "#     sys.stdout.write('{b}01{e}'.format(b=line[0:6],e=line[6:]))\n",
    "\n",
    "rfr_df = pd.read_csv('./data/F-F_Research_Data_Factors.CSV', header=0, names=['Date','Mkt-RF','SMB','HML','RF'], parse_dates=['Date'], skipfooter=99, skiprows=3, engine='python')\n",
    "rfr_df['Date'] = pd.to_datetime(rfr_df['Date'], format='%y%m')\n",
    "rfr_df['Date']"
   ]
  },
  {
   "cell_type": "code",
   "execution_count": 7,
   "metadata": {},
   "outputs": [],
   "source": [
    "# DOWNLOADS:\n",
    "stock_df = get_data(ticker=TICKER,period='30y',interval='1mo')\n",
    "stock_df = stock_df['Adj Close'].fillna(0)\n",
    "spx_df = get_data(ticker='^GSPC', period='30y',interval='1mo')\n",
    "spx_df = spx_df['Adj Close'].fillna(0)"
   ]
  },
  {
   "cell_type": "code",
   "execution_count": 9,
   "metadata": {},
   "outputs": [
    {
     "data": {
      "text/plain": [
       "DatetimeIndex(['1992-04-01', '1992-05-01', '1992-06-01', '1992-07-01',\n",
       "               '1992-08-01', '1992-09-01', '1992-10-01', '1992-11-01',\n",
       "               '1992-12-01', '1993-01-01',\n",
       "               ...\n",
       "               '2021-07-01', '2021-08-01', '2021-09-01', '2021-10-01',\n",
       "               '2021-11-01', '2021-12-01', '2022-01-01', '2022-02-01',\n",
       "               '2022-03-01', '2022-03-18'],\n",
       "              dtype='datetime64[ns]', name='Date', length=361, freq=None)"
      ]
     },
     "execution_count": 9,
     "metadata": {},
     "output_type": "execute_result"
    }
   ],
   "source": [
    "spx_df.index"
   ]
  }
 ],
 "metadata": {
  "interpreter": {
   "hash": "e531c443b150a1f62384ef1e7a8caaa693d5a125b2b8afebaf9a89052060588d"
  },
  "kernelspec": {
   "display_name": "Python 3.9.10 ('finance')",
   "language": "python",
   "name": "python3"
  },
  "language_info": {
   "codemirror_mode": {
    "name": "ipython",
    "version": 3
   },
   "file_extension": ".py",
   "mimetype": "text/x-python",
   "name": "python",
   "nbconvert_exporter": "python",
   "pygments_lexer": "ipython3",
   "version": "3.9.10"
  },
  "orig_nbformat": 4
 },
 "nbformat": 4,
 "nbformat_minor": 2
}
