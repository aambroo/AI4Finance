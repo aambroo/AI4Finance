{
  "nbformat": 4,
  "nbformat_minor": 0,
  "metadata": {
    "colab": {
      "name": "TimeSeriesForecasting_RNN.ipynb",
      "provenance": []
    },
    "kernelspec": {
      "name": "python3",
      "display_name": "Python 3"
    },
    "language_info": {
      "name": "python"
    },
    "accelerator": "GPU",
    "gpuClass": "standard"
  },
  "cells": [
    {
      "cell_type": "code",
      "execution_count": 1,
      "metadata": {
        "id": "RbbbCALIIzGG"
      },
      "outputs": [],
      "source": [
        "# 1. Imports\n",
        "\n",
        "# Basic Stuff\n",
        "import numpy as np\n",
        "import pandas as pd\n",
        "import os\n",
        "import random\n",
        "\n",
        "# Training Stuff\n",
        "import torch\n",
        "import torch.optim as optim\n",
        "import torch.nn as nn\n",
        "from torch.utils.data import (Dataset, TensorDataset, DataLoader, Subset)\n",
        "from collections import OrderedDict\n",
        "\n",
        "# Evaluation Stuff\n",
        "from sklearn.metrics import mean_squared_error\n",
        "from sklearn.preprocessing import MinMaxScaler\n",
        "\n",
        "# Plotting Stuff\n",
        "import matplotlib.pyplot as plt\n",
        "import warnings\n",
        "plt.style.use('seaborn')\n",
        "plt.rcParams['figure.figsize'] = [16, 9]\n",
        "plt.rcParams['figure.dpi'] = 300\n",
        "warnings.simplefilter(action='ignore', category=FutureWarning)\n",
        "\n",
        "# Superpowers\n",
        "device = 'cuda' if torch.cuda.is_available() else 'cpu'"
      ]
    },
    {
      "cell_type": "code",
      "source": [
        "# Connecting to GoogleDrive\n",
        "from google.colab import drive\n",
        "import os\n",
        "drive.mount('/content/gdrive')\n",
        "\n",
        "PATH_TO_DATA = '/content/gdrive/MyDrive/Code/AI4Finance/data' # please change this according to your needs"
      ],
      "metadata": {
        "colab": {
          "base_uri": "https://localhost:8080/"
        },
        "id": "TLhMxPAW1qzb",
        "outputId": "62ad2eb7-11be-4a8d-bd36-850235f0da64"
      },
      "execution_count": 2,
      "outputs": [
        {
          "output_type": "stream",
          "name": "stdout",
          "text": [
            "Mounted at /content/gdrive\n"
          ]
        }
      ]
    },
    {
      "cell_type": "code",
      "source": [
        "!nvidia-smi"
      ],
      "metadata": {
        "colab": {
          "base_uri": "https://localhost:8080/"
        },
        "id": "Ert7ACDb1rfO",
        "outputId": "9492427b-7a1d-4edc-abf2-7262ffc36905"
      },
      "execution_count": 3,
      "outputs": [
        {
          "output_type": "stream",
          "name": "stdout",
          "text": [
            "Invalid combination of input arguments. Please run 'nvidia-smi -h' for help.\n",
            "\n"
          ]
        }
      ]
    },
    {
      "cell_type": "code",
      "source": [
        "# Helper Functions\n",
        "def create_input_data(series, n_lags=1, n_leads=1):\n",
        "    '''\n",
        "    Function for transforming time series into input acceptable by a multilayer perceptron.\n",
        "    \n",
        "    Parameters\n",
        "    ----------\n",
        "    series : np.array\n",
        "        The time series to be transformed\n",
        "    n_lags : int\n",
        "        The number of lagged observations to consider as features\n",
        "    n_leads : int\n",
        "        The number of future periods we want to forecast for\n",
        "        \n",
        "    Returns\n",
        "    -------\n",
        "    X : np.array\n",
        "        Array of features\n",
        "    y : np.array\n",
        "        Array of target\n",
        "    '''\n",
        "    X = []\n",
        "    y = []\n",
        "    for step in range(len(series) - n_lags - n_leads + 1):\n",
        "        end_step = step + n_lags\n",
        "        forward_end = end_step + n_leads\n",
        "        X.append(series[step:end_step])\n",
        "        y.append(series[end_step:forward_end])\n",
        "    return np.array(X), np.array(y)\n",
        "\n",
        "# custom function for reproducibility\n",
        "\n",
        "\n",
        "def custom_set_seed(seed):\n",
        "    torch.manual_seed(seed)\n",
        "    torch.cuda.manual_seed_all(seed)\n",
        "    torch.backends.cudnn.deterministic = True\n",
        "    torch.backends.cudnn.benchmark = False\n",
        "    np.random.seed(seed)\n",
        "    random.seed(seed)\n",
        "    os.environ['PYTHONHASHSEED'] = str(seed)"
      ],
      "metadata": {
        "id": "5ric1tKHI42c"
      },
      "execution_count": 4,
      "outputs": []
    },
    {
      "cell_type": "code",
      "source": [
        "# 2 Define Parameters\n",
        "END_DATE = '2022-06-16 19:00:00'\n",
        "VALID_START = '2022-06-16 15:00:00'\n",
        "N_LAGS = 12\n",
        "# neural network\n",
        "BATCH_SIZE = 32\n",
        "N_EPOCHS = 1000"
      ],
      "metadata": {
        "id": "2EXtYKRj1wzY"
      },
      "execution_count": 5,
      "outputs": []
    },
    {
      "cell_type": "code",
      "source": [
        "# 3 Get Refinitiv data and Clean it up\n",
        "df = pd.read_excel(PATH_TO_DATA + '/Price History_20220616_1915.xlsx', usecols=\"A:I\", skiprows=range(0,16), header=0)\n",
        "df['datetime'] = df['Local Date']\n",
        "\n",
        "df = df[['datetime', 'Close', '%Chg', 'Volume']]\n",
        "df.dropna(axis=0, inplace=True)\n",
        "df.set_index('datetime', inplace=True)\n",
        "\n",
        "valid_size = df[(df.index > VALID_START) & (df.index < END_DATE)].shape[0]\n",
        "prices = df['Close'].values.reshape(-1, 1)\n",
        "\n",
        "df"
      ],
      "metadata": {
        "colab": {
          "base_uri": "https://localhost:8080/",
          "height": 455
        },
        "id": "GQMVKZZI1xvq",
        "outputId": "48668f74-24b3-4c38-c302-76101650f16c"
      },
      "execution_count": 6,
      "outputs": [
        {
          "output_type": "execute_result",
          "data": {
            "text/plain": [
              "                        Close      %Chg    Volume\n",
              "datetime                                         \n",
              "2022-06-16 19:00:00  131.0400  0.001346  152201.0\n",
              "2022-06-16 18:59:00  130.8639 -0.000276   82634.0\n",
              "2022-06-16 18:58:00  130.9000  0.000037   90831.0\n",
              "2022-06-16 18:57:00  130.8952  0.000431   90186.0\n",
              "2022-06-16 18:56:00  130.8388 -0.000477  113039.0\n",
              "...                       ...       ...       ...\n",
              "2022-06-13 10:06:00  133.4400  0.001501    7415.0\n",
              "2022-06-13 10:05:00  133.2400 -0.000900    4411.0\n",
              "2022-06-13 10:04:00  133.3600  0.000675    6223.0\n",
              "2022-06-13 10:03:00  133.2700 -0.002246    8142.0\n",
              "2022-06-13 10:02:00  133.5700 -0.002166   12516.0\n",
              "\n",
              "[3418 rows x 3 columns]"
            ],
            "text/html": [
              "\n",
              "  <div id=\"df-06fa2167-59c0-4010-9274-5db9f9aac687\">\n",
              "    <div class=\"colab-df-container\">\n",
              "      <div>\n",
              "<style scoped>\n",
              "    .dataframe tbody tr th:only-of-type {\n",
              "        vertical-align: middle;\n",
              "    }\n",
              "\n",
              "    .dataframe tbody tr th {\n",
              "        vertical-align: top;\n",
              "    }\n",
              "\n",
              "    .dataframe thead th {\n",
              "        text-align: right;\n",
              "    }\n",
              "</style>\n",
              "<table border=\"1\" class=\"dataframe\">\n",
              "  <thead>\n",
              "    <tr style=\"text-align: right;\">\n",
              "      <th></th>\n",
              "      <th>Close</th>\n",
              "      <th>%Chg</th>\n",
              "      <th>Volume</th>\n",
              "    </tr>\n",
              "    <tr>\n",
              "      <th>datetime</th>\n",
              "      <th></th>\n",
              "      <th></th>\n",
              "      <th></th>\n",
              "    </tr>\n",
              "  </thead>\n",
              "  <tbody>\n",
              "    <tr>\n",
              "      <th>2022-06-16 19:00:00</th>\n",
              "      <td>131.0400</td>\n",
              "      <td>0.001346</td>\n",
              "      <td>152201.0</td>\n",
              "    </tr>\n",
              "    <tr>\n",
              "      <th>2022-06-16 18:59:00</th>\n",
              "      <td>130.8639</td>\n",
              "      <td>-0.000276</td>\n",
              "      <td>82634.0</td>\n",
              "    </tr>\n",
              "    <tr>\n",
              "      <th>2022-06-16 18:58:00</th>\n",
              "      <td>130.9000</td>\n",
              "      <td>0.000037</td>\n",
              "      <td>90831.0</td>\n",
              "    </tr>\n",
              "    <tr>\n",
              "      <th>2022-06-16 18:57:00</th>\n",
              "      <td>130.8952</td>\n",
              "      <td>0.000431</td>\n",
              "      <td>90186.0</td>\n",
              "    </tr>\n",
              "    <tr>\n",
              "      <th>2022-06-16 18:56:00</th>\n",
              "      <td>130.8388</td>\n",
              "      <td>-0.000477</td>\n",
              "      <td>113039.0</td>\n",
              "    </tr>\n",
              "    <tr>\n",
              "      <th>...</th>\n",
              "      <td>...</td>\n",
              "      <td>...</td>\n",
              "      <td>...</td>\n",
              "    </tr>\n",
              "    <tr>\n",
              "      <th>2022-06-13 10:06:00</th>\n",
              "      <td>133.4400</td>\n",
              "      <td>0.001501</td>\n",
              "      <td>7415.0</td>\n",
              "    </tr>\n",
              "    <tr>\n",
              "      <th>2022-06-13 10:05:00</th>\n",
              "      <td>133.2400</td>\n",
              "      <td>-0.000900</td>\n",
              "      <td>4411.0</td>\n",
              "    </tr>\n",
              "    <tr>\n",
              "      <th>2022-06-13 10:04:00</th>\n",
              "      <td>133.3600</td>\n",
              "      <td>0.000675</td>\n",
              "      <td>6223.0</td>\n",
              "    </tr>\n",
              "    <tr>\n",
              "      <th>2022-06-13 10:03:00</th>\n",
              "      <td>133.2700</td>\n",
              "      <td>-0.002246</td>\n",
              "      <td>8142.0</td>\n",
              "    </tr>\n",
              "    <tr>\n",
              "      <th>2022-06-13 10:02:00</th>\n",
              "      <td>133.5700</td>\n",
              "      <td>-0.002166</td>\n",
              "      <td>12516.0</td>\n",
              "    </tr>\n",
              "  </tbody>\n",
              "</table>\n",
              "<p>3418 rows × 3 columns</p>\n",
              "</div>\n",
              "      <button class=\"colab-df-convert\" onclick=\"convertToInteractive('df-06fa2167-59c0-4010-9274-5db9f9aac687')\"\n",
              "              title=\"Convert this dataframe to an interactive table.\"\n",
              "              style=\"display:none;\">\n",
              "        \n",
              "  <svg xmlns=\"http://www.w3.org/2000/svg\" height=\"24px\"viewBox=\"0 0 24 24\"\n",
              "       width=\"24px\">\n",
              "    <path d=\"M0 0h24v24H0V0z\" fill=\"none\"/>\n",
              "    <path d=\"M18.56 5.44l.94 2.06.94-2.06 2.06-.94-2.06-.94-.94-2.06-.94 2.06-2.06.94zm-11 1L8.5 8.5l.94-2.06 2.06-.94-2.06-.94L8.5 2.5l-.94 2.06-2.06.94zm10 10l.94 2.06.94-2.06 2.06-.94-2.06-.94-.94-2.06-.94 2.06-2.06.94z\"/><path d=\"M17.41 7.96l-1.37-1.37c-.4-.4-.92-.59-1.43-.59-.52 0-1.04.2-1.43.59L10.3 9.45l-7.72 7.72c-.78.78-.78 2.05 0 2.83L4 21.41c.39.39.9.59 1.41.59.51 0 1.02-.2 1.41-.59l7.78-7.78 2.81-2.81c.8-.78.8-2.07 0-2.86zM5.41 20L4 18.59l7.72-7.72 1.47 1.35L5.41 20z\"/>\n",
              "  </svg>\n",
              "      </button>\n",
              "      \n",
              "  <style>\n",
              "    .colab-df-container {\n",
              "      display:flex;\n",
              "      flex-wrap:wrap;\n",
              "      gap: 12px;\n",
              "    }\n",
              "\n",
              "    .colab-df-convert {\n",
              "      background-color: #E8F0FE;\n",
              "      border: none;\n",
              "      border-radius: 50%;\n",
              "      cursor: pointer;\n",
              "      display: none;\n",
              "      fill: #1967D2;\n",
              "      height: 32px;\n",
              "      padding: 0 0 0 0;\n",
              "      width: 32px;\n",
              "    }\n",
              "\n",
              "    .colab-df-convert:hover {\n",
              "      background-color: #E2EBFA;\n",
              "      box-shadow: 0px 1px 2px rgba(60, 64, 67, 0.3), 0px 1px 3px 1px rgba(60, 64, 67, 0.15);\n",
              "      fill: #174EA6;\n",
              "    }\n",
              "\n",
              "    [theme=dark] .colab-df-convert {\n",
              "      background-color: #3B4455;\n",
              "      fill: #D2E3FC;\n",
              "    }\n",
              "\n",
              "    [theme=dark] .colab-df-convert:hover {\n",
              "      background-color: #434B5C;\n",
              "      box-shadow: 0px 1px 3px 1px rgba(0, 0, 0, 0.15);\n",
              "      filter: drop-shadow(0px 1px 2px rgba(0, 0, 0, 0.3));\n",
              "      fill: #FFFFFF;\n",
              "    }\n",
              "  </style>\n",
              "\n",
              "      <script>\n",
              "        const buttonEl =\n",
              "          document.querySelector('#df-06fa2167-59c0-4010-9274-5db9f9aac687 button.colab-df-convert');\n",
              "        buttonEl.style.display =\n",
              "          google.colab.kernel.accessAllowed ? 'block' : 'none';\n",
              "\n",
              "        async function convertToInteractive(key) {\n",
              "          const element = document.querySelector('#df-06fa2167-59c0-4010-9274-5db9f9aac687');\n",
              "          const dataTable =\n",
              "            await google.colab.kernel.invokeFunction('convertToInteractive',\n",
              "                                                     [key], {});\n",
              "          if (!dataTable) return;\n",
              "\n",
              "          const docLinkHtml = 'Like what you see? Visit the ' +\n",
              "            '<a target=\"_blank\" href=https://colab.research.google.com/notebooks/data_table.ipynb>data table notebook</a>'\n",
              "            + ' to learn more about interactive tables.';\n",
              "          element.innerHTML = '';\n",
              "          dataTable['output_type'] = 'display_data';\n",
              "          await google.colab.output.renderOutput(dataTable, element);\n",
              "          const docLink = document.createElement('div');\n",
              "          docLink.innerHTML = docLinkHtml;\n",
              "          element.appendChild(docLink);\n",
              "        }\n",
              "      </script>\n",
              "    </div>\n",
              "  </div>\n",
              "  "
            ]
          },
          "metadata": {},
          "execution_count": 6
        }
      ]
    },
    {
      "cell_type": "code",
      "source": [
        "# 4. Scale time series of prices\n",
        "valid_ind = len(prices) - valid_size\n",
        "\n",
        "minmax = MinMaxScaler(feature_range=(0, 1))\n",
        "\n",
        "prices_train = prices[:valid_ind]\n",
        "prices_valid = prices[valid_ind:]\n",
        "\n",
        "minmax.fit(prices_train)\n",
        "\n",
        "prices_train = minmax.transform(prices_train)\n",
        "prices_valid = minmax.transform(prices_valid)\n",
        "prices_scaled = np.concatenate((prices_train,\n",
        "                                prices_valid)).flatten()"
      ],
      "metadata": {
        "id": "2G613_bxJSRo"
      },
      "execution_count": 7,
      "outputs": []
    },
    {
      "cell_type": "code",
      "source": [
        "# 5. Prepare data to feed to RNN\n",
        "X, y = create_input_data(prices_scaled, N_LAGS)"
      ],
      "metadata": {
        "id": "mOC3gDUzKKm3"
      },
      "execution_count": 8,
      "outputs": []
    },
    {
      "cell_type": "code",
      "source": [
        "# 6. Obtain the naïve forecast\n",
        "naive_pred = prices[len(prices) - valid_size - 1:-1]\n",
        "y_valid = prices[len(prices) - valid_size:]\n",
        "\n",
        "naive_mse = mean_squared_error(y_valid, naive_pred)\n",
        "naive_rmse = np.sqrt(naive_mse)\n",
        "print('Naïve forecast - MSE: {:.4f}, RMSE: {:.4f}'.format(naive_mse, naive_rmse))"
      ],
      "metadata": {
        "colab": {
          "base_uri": "https://localhost:8080/"
        },
        "id": "x-YeixTcKTcJ",
        "outputId": "32112435-4275-4390-84ea-afe20ba40a52"
      },
      "execution_count": 9,
      "outputs": [
        {
          "output_type": "stream",
          "name": "stdout",
          "text": [
            "Naïve forecast - MSE: 0.0085, RMSE: 0.0922\n"
          ]
        }
      ]
    },
    {
      "cell_type": "code",
      "source": [
        "# 7. Define DataLoader objects\n",
        "# setting seed for reproducibility\n",
        "custom_set_seed(42)\n",
        "\n",
        "valid_ind = len(X) - valid_size\n",
        "\n",
        "X_tensor = torch.from_numpy(X).float().reshape(X.shape[0],\n",
        "                                               X.shape[1],\n",
        "                                               1)\n",
        "y_tensor = torch.from_numpy(y).float().reshape(X.shape[0], 1)\n",
        "\n",
        "dataset = TensorDataset(X_tensor, y_tensor)\n",
        "\n",
        "train_dataset = Subset(dataset, list(range(valid_ind)))\n",
        "valid_dataset = Subset(dataset, list(range(valid_ind, len(X))))\n",
        "\n",
        "train_loader = DataLoader(dataset=train_dataset,\n",
        "                          batch_size=BATCH_SIZE,\n",
        "                          shuffle=True)\n",
        "valid_loader = DataLoader(dataset=valid_dataset,\n",
        "                          batch_size=BATCH_SIZE)\n"
      ],
      "metadata": {
        "id": "MVDK2tzwKizR"
      },
      "execution_count": 10,
      "outputs": []
    },
    {
      "cell_type": "code",
      "source": [
        "# 8. Define RNN Class\n",
        "class RNN(nn.Module):\n",
        "  def __init__(self, input_size, hidden_size, n_layers, output_size):\n",
        "    super(RNN, self).__init__()\n",
        "    self.rnn = nn.RNN(input_size, hidden_size,\n",
        "                      n_layers, batch_first=True,\n",
        "                      nonlinearity='relu')\n",
        "    self.fc = nn.Linear(hidden_size, output_size)\n",
        "\n",
        "  def forward(self, x):\n",
        "    output, _ = self.rnn(x)\n",
        "    output = self.fc(output[:, -1, :])\n",
        "    return output"
      ],
      "metadata": {
        "id": "LYKOWyzhK7hO"
      },
      "execution_count": 11,
      "outputs": []
    },
    {
      "cell_type": "code",
      "source": [
        "# 9. Instantiate model, loss function, optimizer\n",
        "model = RNN(input_size=1, hidden_size=6, n_layers=1, output_size=1).to(device)\n",
        "loss_fn = nn.MSELoss()\n",
        "optimizer = optim.Adam(model.parameters(), lr=0.001)\n",
        "\n",
        "model"
      ],
      "metadata": {
        "colab": {
          "base_uri": "https://localhost:8080/"
        },
        "id": "lt7Y_FN1LwT-",
        "outputId": "f3346695-c025-465f-9df4-edef7e087a0e"
      },
      "execution_count": 12,
      "outputs": [
        {
          "output_type": "execute_result",
          "data": {
            "text/plain": [
              "RNN(\n",
              "  (rnn): RNN(1, 6, batch_first=True)\n",
              "  (fc): Linear(in_features=6, out_features=1, bias=True)\n",
              ")"
            ]
          },
          "metadata": {},
          "execution_count": 12
        }
      ]
    },
    {
      "cell_type": "code",
      "source": [
        "# 10. Train the RNN\n",
        "PRINT_EVERY = 50\n",
        "train_losses = []\n",
        "valid_losses = []\n",
        "\n",
        "print('Training mode: 🚀\\n' if device=='cuda' else 'Training mode: 🐢\\n')\n",
        "\n",
        "for epoch in range(N_EPOCHS):\n",
        "  running_loss_train = 0\n",
        "  running_loss_valid = 0\n",
        "\n",
        "  model.train()\n",
        "  for x_batch, y_batch in train_loader:\n",
        "    optimizer.zero_grad()\n",
        "    x_batch = x_batch.to(device)\n",
        "    y_batch = y_batch.to(device)\n",
        "    y_hat = model(x_batch)\n",
        "    loss = torch.sqrt(loss_fn(y_batch, y_hat))\n",
        "    loss.backward()\n",
        "    optimizer.step()\n",
        "    running_loss_train += loss.item() * x_batch.size(0)\n",
        "  epoch_loss_train = running_loss_train / len(train_loader.dataset)\n",
        "  train_losses.append(epoch_loss_train)\n",
        "\n",
        "  with torch.no_grad():\n",
        "    model.eval()\n",
        "    for x_val, y_val in valid_loader:\n",
        "      x_val = x_val.to(device)\n",
        "      y_val = y_val.to(device)\n",
        "      y_hat = model(x_val)\n",
        "      loss = torch.sqrt(loss_fn(y_val, y_hat))\n",
        "      running_loss_valid += loss.item() * x_val.size(0)\n",
        "    epoch_loss_valid = running_loss_valid / len(valid_loader.dataset)\n",
        "    \n",
        "    if epoch > 0 and epoch_loss_valid < min(valid_losses):\n",
        "      best_epoch = epoch\n",
        "      torch.save(model.state_dict(), './rnn_checkpoint.pth')\n",
        "    valid_losses.append(epoch_loss_valid)\n",
        "\n",
        "  if epoch % PRINT_EVERY == 0:\n",
        "    print(\"<{}> - Train. loss: {:.4f} \\t Valid. loss: {:.4f}\".format(epoch, epoch_loss_train, epoch_loss_valid))\n",
        "\n",
        "print(\"Lowest loss recorded in epoch: {}\".format(best_epoch))"
      ],
      "metadata": {
        "colab": {
          "base_uri": "https://localhost:8080/"
        },
        "id": "h24-LpNKMg9B",
        "outputId": "f39d9ce8-16bb-414d-c119-79e480c47dd6"
      },
      "execution_count": 13,
      "outputs": [
        {
          "output_type": "stream",
          "name": "stdout",
          "text": [
            "Training mode: 🚀\n",
            "\n",
            "<0> - Train. loss: 0.0526 \t Valid. loss: 0.0088\n",
            "<50> - Train. loss: 0.0076 \t Valid. loss: 0.0037\n",
            "<100> - Train. loss: 0.0067 \t Valid. loss: 0.0036\n",
            "<150> - Train. loss: 0.0065 \t Valid. loss: 0.0041\n",
            "<200> - Train. loss: 0.0064 \t Valid. loss: 0.0039\n",
            "<250> - Train. loss: 0.0064 \t Valid. loss: 0.0039\n",
            "<300> - Train. loss: 0.0064 \t Valid. loss: 0.0036\n",
            "<350> - Train. loss: 0.0065 \t Valid. loss: 0.0036\n",
            "<400> - Train. loss: 0.0064 \t Valid. loss: 0.0037\n",
            "<450> - Train. loss: 0.0065 \t Valid. loss: 0.0038\n",
            "<500> - Train. loss: 0.0064 \t Valid. loss: 0.0036\n",
            "<550> - Train. loss: 0.0063 \t Valid. loss: 0.0037\n",
            "<600> - Train. loss: 0.0065 \t Valid. loss: 0.0037\n",
            "<650> - Train. loss: 0.0065 \t Valid. loss: 0.0037\n",
            "<700> - Train. loss: 0.0064 \t Valid. loss: 0.0037\n",
            "<750> - Train. loss: 0.0064 \t Valid. loss: 0.0037\n",
            "<800> - Train. loss: 0.0064 \t Valid. loss: 0.0038\n",
            "<850> - Train. loss: 0.0064 \t Valid. loss: 0.0038\n",
            "<900> - Train. loss: 0.0065 \t Valid. loss: 0.0037\n",
            "<950> - Train. loss: 0.0064 \t Valid. loss: 0.0036\n",
            "Lowest loss recorded in epoch: 367\n"
          ]
        }
      ]
    },
    {
      "cell_type": "code",
      "source": [
        "# 11. Plot the losses over epochs\n",
        "train_losses = np.array(train_losses)\n",
        "valid_losses = np.array(valid_losses)\n",
        "\n",
        "fig, ax = plt.subplots()\n",
        "\n",
        "ax.plot(train_losses, color='blue', label='Training loss')\n",
        "ax.plot(valid_losses, color='red', label='Validation loss')\n",
        "\n",
        "ax.set(title = 'Loss over Epochs',\n",
        "       xlabel = 'Epochs',\n",
        "       ylabel = 'Loss')\n",
        "ax.legend()\n",
        "# plt.tight_layout()\n",
        "# plt.savefig('RNNLoss.png')"
      ],
      "metadata": {
        "colab": {
          "base_uri": "https://localhost:8080/",
          "height": 311
        },
        "id": "m9CXyXvOWSL9",
        "outputId": "ea967778-cd92-4395-97c9-90d2e515aec4"
      },
      "execution_count": 14,
      "outputs": [
        {
          "output_type": "execute_result",
          "data": {
            "text/plain": [
              "<matplotlib.legend.Legend at 0x7fd2aa0e7090>"
            ]
          },
          "metadata": {},
          "execution_count": 14
        },
        {
          "output_type": "display_data",
          "data": {
            "text/plain": [
              "<Figure size 432x288 with 1 Axes>"
            ],
            "image/png": "[encoded data removed]"
          },
          "metadata": {
            "needs_background": "light"
          }
        }
      ]
    },
    {
      "cell_type": "code",
      "source": [
        "# 12. Load model with lowes validation loss\n",
        "state_dict = torch.load('rnn_checkpoint.pth')\n",
        "model.load_state_dict(state_dict)"
      ],
      "metadata": {
        "colab": {
          "base_uri": "https://localhost:8080/"
        },
        "id": "55fnDEvlWeNj",
        "outputId": "eb4ac698-3488-4536-edf2-7d7c0dda21fd"
      },
      "execution_count": 15,
      "outputs": [
        {
          "output_type": "execute_result",
          "data": {
            "text/plain": [
              "<All keys matched successfully>"
            ]
          },
          "metadata": {},
          "execution_count": 15
        }
      ]
    },
    {
      "cell_type": "code",
      "source": [
        "# 13. Obtain predictions\n",
        "y_pred = []\n",
        "\n",
        "with torch.no_grad():\n",
        "  model.eval()\n",
        "  for x_val, y_val in valid_loader:\n",
        "    x_val = x_val.to(device)\n",
        "    y_hat = model(x_val)\n",
        "    y_pred.append(y_hat)\n",
        "\n",
        "y_pred = torch.cat(y_pred).cpu().numpy()\n",
        "y_pred = minmax.inverse_transform(y_pred).flatten()"
      ],
      "metadata": {
        "id": "D7MVL8AIWiN_"
      },
      "execution_count": 16,
      "outputs": []
    },
    {
      "cell_type": "code",
      "source": [
        "# 14. Evaluate Performance\n",
        "rnn_mse = mean_squared_error(y_valid, y_pred)\n",
        "rnn_rmse = np.sqrt(rnn_mse)\n",
        "print(f\"RNN's forecast - MSE: {rnn_mse:.4f}, RMSE: {rnn_rmse:.4f}\")\n",
        "\n",
        "fig, ax = plt.subplots()\n",
        "\n",
        "ax.plot(y_valid, color='blue', label='Actual')\n",
        "ax.plot(y_pred, color='red', label='RNN')\n",
        "ax.plot(naive_pred, color='green', label='Naïve')\n",
        "\n",
        "ax.set(title=\"RNN's Forecasts\", \n",
        "       xlabel='Time', \n",
        "       ylabel='Price ($)')\n",
        "ax.legend()\n",
        "\n",
        "# plt.show()\n",
        "# plt.tight_layout()\n",
        "# plt.savefig('RNNForecast.png')"
      ],
      "metadata": {
        "colab": {
          "base_uri": "https://localhost:8080/",
          "height": 329
        },
        "id": "XMtUo4pUXUei",
        "outputId": "bbcf41fa-b289-4480-bc38-4b42311db9cb"
      },
      "execution_count": 17,
      "outputs": [
        {
          "output_type": "stream",
          "name": "stdout",
          "text": [
            "RNN's forecast - MSE: 0.0084, RMSE: 0.0915\n"
          ]
        },
        {
          "output_type": "execute_result",
          "data": {
            "text/plain": [
              "<matplotlib.legend.Legend at 0x7fd2aa2982d0>"
            ]
          },
          "metadata": {},
          "execution_count": 17
        },
        {
          "output_type": "display_data",
          "data": {
            "text/plain": [
              "<Figure size 432x288 with 1 Axes>"
            ],
            "image/png": "[encoded data removed]"
          },
          "metadata": {
            "needs_background": "light"
          }
        }
      ]
    },
    {
      "cell_type": "code",
      "source": [
        ""
      ],
      "metadata": {
        "id": "QbA-uGa5YBlp"
      },
      "execution_count": 17,
      "outputs": []
    }
  ]
}